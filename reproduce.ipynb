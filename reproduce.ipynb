{
 "cells": [
  {
   "cell_type": "code",
   "execution_count": 2,
   "metadata": {},
   "outputs": [],
   "source": [
    "import torch\n",
    "from torch.utils.data import DataLoader\n",
    "from torch.optim.lr_scheduler  import OneCycleLR\n",
    "\n",
    "from src.configs import FastSpeechConfig\n",
    "from src.configs import TrainConfig\n",
    "\n",
    "from src.util import BufferDataset\n",
    "from src.util import download_buffer\n",
    "from src.util import collate_fn_tensor\n",
    "from src.util import seed_everything\n",
    "\n",
    "from src.wandb_writer import WanDBWriter\n",
    "from src.model import FastSpeech\n",
    "from src.loss import FastSpeechLoss\n",
    "from src.train import train"
   ]
  },
  {
   "cell_type": "code",
   "execution_count": null,
   "metadata": {},
   "outputs": [],
   "source": [
    "seed_everything(0xbebebe)\n",
    "model_config = FastSpeechConfig()\n",
    "train_config = TrainConfig()"
   ]
  },
  {
   "cell_type": "code",
   "execution_count": null,
   "metadata": {},
   "outputs": [],
   "source": [
    "download_buffer()\n",
    "buffer = torch.load('saved_buffer.pkl')\n",
    "for buf in buffer:\n",
    "    buf['energy'] /= 488\n",
    "    buf['pitch'] /= 862\n",
    "\n",
    "dataset = BufferDataset(buffer)\n",
    "\n",
    "training_loader = DataLoader(\n",
    "    dataset,\n",
    "    batch_size=train_config.batch_expand_size * train_config.batch_size,\n",
    "    shuffle=True,\n",
    "    collate_fn=collate_fn_tensor,\n",
    "    drop_last=True,\n",
    "    num_workers=0\n",
    ")"
   ]
  },
  {
   "cell_type": "code",
   "execution_count": null,
   "metadata": {},
   "outputs": [],
   "source": [
    "model = FastSpeech(model_config)\n",
    "model = model.to(train_config.device)\n",
    "\n",
    "fastspeech_loss = FastSpeechLoss()\n",
    "current_step = 0\n",
    "\n",
    "optimizer = torch.optim.AdamW(\n",
    "    model.parameters(),\n",
    "    lr=train_config.learning_rate,\n",
    "    betas=(0.9, 0.98),\n",
    "    eps=1e-9)\n",
    "\n",
    "scheduler = OneCycleLR(optimizer, **{\n",
    "    \"steps_per_epoch\": len(training_loader) * train_config.batch_expand_size,\n",
    "    \"epochs\": train_config.epochs,\n",
    "    \"anneal_strategy\": \"cos\",\n",
    "    \"max_lr\": train_config.learning_rate,\n",
    "    \"pct_start\": 0.1\n",
    "})\n",
    "logger = WanDBWriter(train_config)"
   ]
  },
  {
   "cell_type": "code",
   "execution_count": null,
   "metadata": {},
   "outputs": [],
   "source": [
    "train(\n",
    "    model=model,\n",
    "    fastspeech_loss=fastspeech_loss,\n",
    "    optimizer=optimizer,\n",
    "    scheduler=scheduler,\n",
    "    logger=logger,\n",
    "    training_loader=training_loader,\n",
    "    train_config=train_config\n",
    ")"
   ]
  },
  {
   "cell_type": "markdown",
   "metadata": {},
   "source": [
    "# synthesys"
   ]
  },
  {
   "cell_type": "code",
   "execution_count": null,
   "metadata": {},
   "outputs": [],
   "source": [
    "import waveglow\n",
    "import utils\n",
    "\n",
    "import os\n",
    "import numpy as np\n",
    "\n",
    "\n",
    "WaveGlow = utils.get_WaveGlow()\n",
    "WaveGlow = WaveGlow.cuda()\n",
    "\n",
    "model.load_state_dict(torch.load('checkpoint_36000.pth.tar', map_location='cuda:0')['model'])\n",
    "model = model.eval()"
   ]
  },
  {
   "cell_type": "code",
   "execution_count": null,
   "metadata": {},
   "outputs": [],
   "source": [
    "def synthesis(model, text, alpha=1.0, palpha=1.0, ealpha=1.0, speaker_id=10):\n",
    "    text = np.stack([text])\n",
    "    src_pos = np.array([i+1 for i in range(text.shape[1])])\n",
    "    src_pos = np.stack([src_pos])\n",
    "    sequence = torch.from_numpy(text).long().to(train_config.device)\n",
    "    src_pos = torch.from_numpy(src_pos).long().to(train_config.device)\n",
    "    sid = torch.tensor([speaker_id]).to(train_config.device)\n",
    "    \n",
    "    with torch.no_grad():\n",
    "        mel = model.forward(sequence, src_pos, alpha=alpha, speaker_id=sid, palpha=palpha, ealpha=ealpha)\n",
    "      \n",
    "    return mel[0].cpu().transpose(0, 1), mel[0].contiguous().transpose(1, 2)\n",
    "\n",
    "\n",
    "def get_data(text):\n",
    "    data_list = list(text.text_to_sequence(text, train_config.text_cleaners))\n",
    "    return data_list\n",
    "\n",
    "\n",
    "data = get_data(input('Enter your sentence: '))[0]\n",
    "\n",
    "# parameters of speaker\n",
    "speaker_id = 5\n",
    "ealpha = 1.\n",
    "palpha = 1.\n",
    "speed  = 1.\n",
    "\n",
    "_, mel_cuda = synthesis(\n",
    "    model, data, speed,\n",
    "    ealpha=ealpha, palpha=palpha,\n",
    "    speaker_id=speaker_id\n",
    ")\n",
    "os.makedirs(\"results\", exist_ok=True)\n",
    "name = \"sp={}_en={}_p={}_sid={}\".format(\n",
    "    speed, ealpha, palpha, speaker_id\n",
    ")\n",
    "\n",
    "waveglow.inference.inference(\n",
    "    mel_cuda.to('cuda:0'), WaveGlow,\n",
    "    f\"results/{name}.wav\"\n",
    ")\n",
    "\n",
    "display.Audio(\"results/{name}.wav\")"
   ]
  }
 ],
 "metadata": {
  "kernelspec": {
   "display_name": "Python 3.11.0 64-bit",
   "language": "python",
   "name": "python3"
  },
  "language_info": {
   "codemirror_mode": {
    "name": "ipython",
    "version": 3
   },
   "file_extension": ".py",
   "mimetype": "text/x-python",
   "name": "python",
   "nbconvert_exporter": "python",
   "pygments_lexer": "ipython3",
   "version": "3.11.0"
  },
  "orig_nbformat": 4,
  "vscode": {
   "interpreter": {
    "hash": "1a1af0ee75eeea9e2e1ee996c87e7a2b11a0bebd85af04bb136d915cefc0abce"
   }
  }
 },
 "nbformat": 4,
 "nbformat_minor": 2
}
